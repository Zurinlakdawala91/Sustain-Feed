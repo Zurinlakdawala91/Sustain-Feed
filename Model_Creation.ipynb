{
 "cells": [
  {
   "cell_type": "code",
   "execution_count": 4,
   "id": "12e44406",
   "metadata": {},
   "outputs": [
    {
     "name": "stdout",
     "output_type": "stream",
     "text": [
      "MAPE for Bread: 0.248682356039734\n",
      "MAPE for Yogurt: 0.16621774372774986\n",
      "MAPE for Yogurt: 0.19610693210979743\n",
      "MAPE for Yogurt: 0.11731486739495735\n",
      "MAPE for Yogurt: 0.1522207650857247\n",
      "MAPE for Yogurt: 0.22262700299623842\n",
      "MAPE for Yogurt: 0.1907576311157152\n"
     ]
    }
   ],
   "source": [
    "import numpy as np\n",
    "import pandas as pd\n",
    "from sklearn.model_selection import train_test_split\n",
    "from sklearn.ensemble import RandomForestRegressor\n",
    "from sklearn.metrics import mean_squared_error, mean_absolute_percentage_error\n",
    "\n",
    "import warnings\n",
    "warnings.filterwarnings(\"ignore\")\n",
    "import pickle\n",
    "\n",
    "def train_and_save_model(data, target_column, model_name):\n",
    "    x = data[['Row Number']]\n",
    "    y = data[[target_column]]\n",
    "\n",
    "    X_train, X_test, y_train, y_test = train_test_split(x, y, test_size=0.30, random_state=42)\n",
    "\n",
    "    model = RandomForestRegressor()\n",
    "    model.fit(X_train, y_train)\n",
    "\n",
    "    y_pred = model.predict(X_test)\n",
    "\n",
    "    mape = mean_absolute_percentage_error(y_test, y_pred)\n",
    "\n",
    "    pickle.dump(model, open(model_name + '.pkl', 'wb'))\n",
    "\n",
    "    return mape\n",
    "\n",
    "# Load data\n",
    "data = pd.read_csv('SalesPerProductFinal1.csv')\n",
    "\n",
    "# Train and save model for Bread\n",
    "bread_mape = train_and_save_model(data, 'Bread', 'Bread')\n",
    "\n",
    "# Train and save model for Yogurt\n",
    "yogurt_mape = train_and_save_model(data, 'Yogurt', 'Yogurt')\n",
    "\n",
    "# Train and save model for Pastery\n",
    "pastery_mape = train_and_save_model(data, 'Pastry', 'Pastry')\n",
    "\n",
    "# Train and save model for Paneer\n",
    "paneer_mape = train_and_save_model(data, 'Paneer', 'Paneer')\n",
    "\n",
    "# Train and save model for Milk\n",
    "milk_mape = train_and_save_model(data, 'Milk', 'Milk')\n",
    "\n",
    "# Train and save model for Egg\n",
    "egg_mape = train_and_save_model(data, 'Egg', 'Egg')\n",
    "\n",
    "# Train and save model for Packed_Buttermilk\n",
    "buttermilk_mape = train_and_save_model(data, 'Packed Buttermilk', 'Packed Buttermilk')\n",
    "\n",
    "\n",
    "\n",
    "print(f'MAPE for Bread: {bread_mape}')\n",
    "print(f'MAPE for Yogurt: {yogurt_mape}')\n",
    "print(f'MAPE for Yogurt: {pastery_mape}')\n",
    "print(f'MAPE for Yogurt: {paneer_mape}')\n",
    "print(f'MAPE for Yogurt: {milk_mape}')\n",
    "print(f'MAPE for Yogurt: {egg_mape}')\n",
    "print(f'MAPE for Yogurt: {buttermilk_mape}')"
   ]
  },
  {
   "cell_type": "code",
   "execution_count": null,
   "id": "443fe839",
   "metadata": {},
   "outputs": [],
   "source": []
  }
 ],
 "metadata": {
  "kernelspec": {
   "display_name": "Python 3 (ipykernel)",
   "language": "python",
   "name": "python3"
  },
  "language_info": {
   "codemirror_mode": {
    "name": "ipython",
    "version": 3
   },
   "file_extension": ".py",
   "mimetype": "text/x-python",
   "name": "python",
   "nbconvert_exporter": "python",
   "pygments_lexer": "ipython3",
   "version": "3.10.9"
  }
 },
 "nbformat": 4,
 "nbformat_minor": 5
}
